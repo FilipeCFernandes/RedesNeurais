{
 "cells": [
  {
   "cell_type": "markdown",
   "id": "61fddf73",
   "metadata": {},
   "source": [
    "# Redes Neurais Artificiais - Aula 01 - 04/08/2025\n",
    "## Rede Perceptron\n",
    "<div align=\"center\">\n",
    "    <img src=\"https://github.com/FilipeCFernandes/RedesNeurais/blob/main/Imagens/Neuronio_Artificial_Haykin.png?raw=true\" width=\"500\">\n",
    "    <p><em>Figura 1:</em> Diagrama de um neurônio artificial (Haykin, 2001)\n",
    "</div>\n",
    "\n",
    "O método de redes neurais artificiais é uma abordagem inspirada no funcionamento do cérebro humano para a resolução de problemas complexos de classificação, regressão e reconhecimento de padrões. \n",
    "Entre os modelos mais básicos está o perceptron simples, proposto por Frank Rosenblatt em 1958. \n",
    "O perceptron é uma unidade de processamento que realiza a combinação linear dos dados de entrada, seguida de uma função de ativação, permitindo a separação de padrões linearmente separáveis. \n",
    "Apesar de sua simplicidade, o perceptron foi fundamental para o desenvolvimento de arquiteturas mais avançadas de redes neurais e permanece como um importante ponto de partida para o estudo de aprendizado de máquina supervisionado."
   ]
  },
  {
   "cell_type": "markdown",
   "id": "4caaf722",
   "metadata": {},
   "source": [
    "### Funções de Ativação\n",
    "\n",
    "As funções de ativação são componentes fundamentais em redes neurais artificiais. \n",
    "Elas determinam se um neurônio deve ser ativado ou não, introduzindo não-linearidade ao modelo. \n",
    "Isso permite que a rede aprenda padrões complexos e resolva problemas que não podem ser solucionados apenas com combinações lineares dos dados de entrada. \n",
    "Em resumo, as funções de ativação ajudam a rede a capturar relações mais sofisticadas nos dados, tornando-a capaz de realizar tarefas como classificação, regressão e reconhecimento de padrões."
   ]
  },
  {
   "cell_type": "code",
   "execution_count": 8,
   "id": "1c6a4a4a",
   "metadata": {},
   "outputs": [],
   "source": [
    "import numpy as np\n",
    "import matplotlib.pyplot as plt"
   ]
  },
  {
   "cell_type": "markdown",
   "id": "276b0a0c",
   "metadata": {},
   "source": [
    "#### Função Degrau\n",
    "$$\n",
    "f(v) =\n",
    "\\begin{cases}\n",
    "1, & \\text{se } v \\ge 0 \\\\\n",
    "0, & \\text{se } v < 0\n",
    "\\end{cases}\n",
    "$$"
   ]
  },
  {
   "cell_type": "code",
   "execution_count": null,
   "id": "717e490c",
   "metadata": {},
   "outputs": [],
   "source": [
    "def funcao_degrau(v):\n",
    "    pass"
   ]
  },
  {
   "cell_type": "code",
   "execution_count": null,
   "id": "77037a1a",
   "metadata": {},
   "outputs": [],
   "source": [
    "# Aplicação do treinamento do perceptron simples para a função lógica AND\n",
    "\n",
    "# Dados de entrada e saída\n",
    "# x = entradas, y = saídas esperadas\n",
    "# A função AND retorna 1 somente quando ambas as entradas são 1, caso contrário retorna 0.\n",
    "# A tabela verdade da função AND é: \n",
    "x = np.array([[0, 0], \n",
    "              [0, 1], \n",
    "              [1, 0],\n",
    "              [1, 1]])\n",
    "\n",
    "y = np.array([0, \n",
    "              0,\n",
    "              0, \n",
    "              1])\n"
   ]
  },
  {
   "cell_type": "code",
   "execution_count": 12,
   "id": "c42e1ec8",
   "metadata": {},
   "outputs": [],
   "source": [
    "# Inicialização dos pesos e bias\n",
    "# Inicializando os pesos com valores aleatórios e o bias com zero\n",
    "np.random.seed(42)  # Para reprodutibilidade\n",
    "pesos = np.random.rand(2)  # Dois pesos para duas entradas\n",
    "bias = np.random.rand(1)[0]  # Um bias\n",
    "\n",
    "# Taxa de aprendizado\n",
    "taxa_aprendizado = 0.1\n",
    "\n",
    "# Número de épocas\n",
    "num_epocas = 10"
   ]
  },
  {
   "cell_type": "code",
   "execution_count": null,
   "id": "35b658c3",
   "metadata": {},
   "outputs": [],
   "source": [
    "# Treinamento do perceptron\n",
    "for epoca in range(num_epocas):\n",
    "    pass"
   ]
  },
  {
   "cell_type": "markdown",
   "id": "2e0e9426",
   "metadata": {},
   "source": [
    "## Exercício 1\n",
    "### Atividade Prática – Rede Perceptron Simples 2 pts\n",
    "\n",
    "1. **Formem grupos de 4 pessoas**.  \n",
    "2. **Objetivo:** implementar uma **rede Perceptron simples** para realizar classificações.  \n",
    "3. **Instruções:**  \n",
    "   - Desenvolvam o código da rede Perceptron simples em linguagem de programação à escolha do grupo.  \n",
    "   - Realizem **7 treinamentos independentes**.  \n",
    "   - **Pesos iniciais e bias** devem ser **gerados de forma aleatória** para cada treinamento.  \n",
    "   - Ao final de cada treinamento, registrem:  \n",
    "     - **Pesos iniciais**  \n",
    "     - **Pesos finais**  \n",
    "     - **Bias final**  \n",
    "     - **Saída para as amostras de teste**  \n",
    "\n",
    "4. **Organizem os resultados** em uma **tabela** com as seguintes colunas:  \n",
    "\n",
    "| Treinamento | Pesos Iniciais | Pesos Finais | Bias Final | Saída das Amostras de Teste |\n",
    "|-------------|---------------|--------------|------------|-----------------------------|\n",
    "| | | | | | \n",
    "|-------------|---------------|--------------|------------|-----------------------------|\n",
    "\n",
    "5. **Entregáveis:**  \n",
    "   - Código-fonte utilizado.  \n",
    "   - Tabela preenchida com os resultados.  \n",
    "   - Breve comentário sobre a variação dos pesos e da saída final em cada execução.  \n"
   ]
  },
  {
   "cell_type": "code",
   "execution_count": 3,
   "id": "4621b1d7",
   "metadata": {},
   "outputs": [
    {
     "name": "stdout",
     "output_type": "stream",
     "text": [
      "/Users/fernandes/Documents/Estudo/UNAMA/Disciplinas/2025.2/REDES NEURAIS/GitHub/Notebook\n"
     ]
    }
   ],
   "source": [
    "!pwd"
   ]
  },
  {
   "cell_type": "code",
   "execution_count": 6,
   "id": "4ceb2aa2",
   "metadata": {},
   "outputs": [],
   "source": [
    "import pandas as pd\n",
    "# data = pd.read_excel()"
   ]
  },
  {
   "cell_type": "code",
   "execution_count": null,
   "id": "337135a1",
   "metadata": {},
   "outputs": [],
   "source": []
  },
  {
   "cell_type": "markdown",
   "id": "eb0e2574",
   "metadata": {},
   "source": [
    "## Exercício 2\n",
    "Implemente as funções de ativação apresentadas abaixo segundo as equções mostradas. Utilize somente a biblioteca _numpy_ quando necessário."
   ]
  },
  {
   "cell_type": "markdown",
   "id": "1a2d9870",
   "metadata": {},
   "source": [
    "Função Degrau bipolar:\n",
    "$$\n",
    "f(v) =\n",
    "\\begin{cases}\n",
    "1, & \\text{se } v > 0 \\\\\n",
    "\\text{saída anterior,} & \\text{se } v = 0 \\\\\n",
    "-1, & \\text{se } v < 0\n",
    "\\end{cases}\n",
    "$$"
   ]
  },
  {
   "cell_type": "code",
   "execution_count": null,
   "id": "30fb9656",
   "metadata": {},
   "outputs": [],
   "source": [
    "def funcaco_degrau_bipolar(v):\n",
    "    pass"
   ]
  },
  {
   "cell_type": "markdown",
   "id": "f99ff4b2",
   "metadata": {},
   "source": [
    "Função Rampa Simétrica\n",
    "$$\n",
    "f(v) =\n",
    "\\begin{cases}\n",
    "1, & \\text{se } v > 1 \\\\\n",
    "x & \\text{se } -1 < v < 1 \\\\\n",
    "-1, & \\text{se } v < -1\n",
    "\\end{cases}\n",
    "$$"
   ]
  },
  {
   "cell_type": "code",
   "execution_count": 3,
   "id": "bd912b31",
   "metadata": {},
   "outputs": [],
   "source": [
    "def funcao_rampa_simetrica(v):\n",
    "    pass"
   ]
  },
  {
   "cell_type": "markdown",
   "id": "566fc859",
   "metadata": {},
   "source": [
    "Função Logística\n",
    "$$\n",
    "f(v) = \\frac{1}{1+e^{-\\beta v}}\n",
    "$$\n",
    "onde $\\beta$ é uma constante real associada ao nível de inclinação da função logística frente ao seu ponto de inflexão. "
   ]
  },
  {
   "cell_type": "code",
   "execution_count": 4,
   "id": "b45a9da4",
   "metadata": {},
   "outputs": [],
   "source": [
    "def funcao_logistica(v):\n",
    "    pass"
   ]
  },
  {
   "cell_type": "markdown",
   "id": "dcaf823a",
   "metadata": {},
   "source": [
    "Função Hiperbólica\n",
    "$$\n",
    "f(v) = \\frac{1-e^{-\\beta v}}{1+e^{-\\beta v}}\n",
    "$$\n",
    "onde $\\beta$ está também associado ao nível de inclinação da função tangente hiperbólica em relação ao seu ponto de inflexão. "
   ]
  },
  {
   "cell_type": "code",
   "execution_count": 5,
   "id": "55f56116",
   "metadata": {},
   "outputs": [],
   "source": [
    "def funcao_hiperbolica(v):\n",
    "    pass"
   ]
  },
  {
   "cell_type": "markdown",
   "id": "53323a1d",
   "metadata": {},
   "source": [
    "Função Gaussiana\n",
    "$$\n",
    "f(v) = e^{-\\frac{(v-c)^2}{2\\sigma^2}}\n",
    "$$\n",
    "onde $c$ é um parâmetro que define o centro da função gaussiana e $\\sigma$ denota o desvio padrão associado à mesma, isto é, o quão espalhada (dispersada) está a curva em relação ao seu centro. (Silva et al, 2016)"
   ]
  },
  {
   "cell_type": "code",
   "execution_count": 6,
   "id": "f717802f",
   "metadata": {},
   "outputs": [],
   "source": [
    "def funcao_gaussiana(v):\n",
    "    pass"
   ]
  },
  {
   "cell_type": "markdown",
   "id": "3ed6e843",
   "metadata": {},
   "source": [
    "Função Linear\n",
    "$$ \n",
    "f(v) = v\n",
    "$$"
   ]
  },
  {
   "cell_type": "code",
   "execution_count": 7,
   "id": "54520e6d",
   "metadata": {},
   "outputs": [],
   "source": [
    "def funcao_linear(v):\n",
    "    pass"
   ]
  },
  {
   "cell_type": "markdown",
   "id": "c41f2a91",
   "metadata": {},
   "source": [
    "## Bilbiografia\n",
    "\n",
    "SILVA, Ivan Nunes da; SPATTI, Danilo Hernane; FLAUZINO, Rogério Andrade. Redes neurais artificiais para engenharia e ciências aplicadas. São Paulo: Artliber Editora, 2016."
   ]
  },
  {
   "cell_type": "markdown",
   "id": "12732fa0",
   "metadata": {},
   "source": []
  }
 ],
 "metadata": {
  "kernelspec": {
   "display_name": "base",
   "language": "python",
   "name": "python3"
  },
  "language_info": {
   "codemirror_mode": {
    "name": "ipython",
    "version": 3
   },
   "file_extension": ".py",
   "mimetype": "text/x-python",
   "name": "python",
   "nbconvert_exporter": "python",
   "pygments_lexer": "ipython3",
   "version": "3.11.3"
  }
 },
 "nbformat": 4,
 "nbformat_minor": 5
}
