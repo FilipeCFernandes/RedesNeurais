{
 "cells": [
  {
   "cell_type": "markdown",
   "id": "61fddf73",
   "metadata": {},
   "source": [
    "# Redes Neurais Artificiais - Aula 01 - 04/08/2025\n",
    "## Rede Perceptron\n",
    "<div align=\"center\">\n",
    "    <img src=\"https://github.com/FilipeCFernandes/RedesNeurais/blob/main/Imagens/Neuronio_Artificial_Haykin.png?raw=true\" width=\"500\">\n",
    "    <p><em>Figura 1:</em> Diagrama de um neurônio artificial (Haykin, 2001)\n",
    "</div>\n",
    "\n",
    "O método de redes neurais artificiais é uma abordagem inspirada no funcionamento do cérebro humano para a resolução de problemas complexos de classificação, regressão e reconhecimento de padrões. \n",
    "Entre os modelos mais básicos está o perceptron simples, proposto por Frank Rosenblatt em 1958. \n",
    "O perceptron é uma unidade de processamento que realiza a combinação linear dos dados de entrada, seguida de uma função de ativação, permitindo a separação de padrões linearmente separáveis. \n",
    "Apesar de sua simplicidade, o perceptron foi fundamental para o desenvolvimento de arquiteturas mais avançadas de redes neurais e permanece como um importante ponto de partida para o estudo de aprendizado de máquina supervisionado."
   ]
  },
  {
   "cell_type": "markdown",
   "id": "4caaf722",
   "metadata": {},
   "source": [
    "### Funções de Ativação\n",
    "\n",
    "As funções de ativação são componentes fundamentais em redes neurais artificiais. \n",
    "Elas determinam se um neurônio deve ser ativado ou não, introduzindo não-linearidade ao modelo. \n",
    "Isso permite que a rede aprenda padrões complexos e resolva problemas que não podem ser solucionados apenas com combinações lineares dos dados de entrada. \n",
    "Em resumo, as funções de ativação ajudam a rede a capturar relações mais sofisticadas nos dados, tornando-a capaz de realizar tarefas como classificação, regressão e reconhecimento de padrões."
   ]
  },
  {
   "cell_type": "code",
   "execution_count": 29,
   "id": "1c6a4a4a",
   "metadata": {},
   "outputs": [],
   "source": [
    "import numpy as np\n",
    "import matplotlib.pyplot as plt\n",
    "from ipywidgets import interact, FloatSlider"
   ]
  },
  {
   "cell_type": "markdown",
   "id": "276b0a0c",
   "metadata": {},
   "source": [
    "#### Função Degrau\n",
    "$$\n",
    "f(v) =\n",
    "\\begin{cases}\n",
    "1, & \\text{se } v \\ge 0 \\\\\n",
    "0, & \\text{se } v < 0\n",
    "\\end{cases}\n",
    "$$"
   ]
  },
  {
   "cell_type": "code",
   "execution_count": 10,
   "id": "717e490c",
   "metadata": {},
   "outputs": [],
   "source": [
    "def funcao_degrau(v):\n",
    "    if v >= 0 :\n",
    "        return 1\n",
    "    else:\n",
    "        return 0"
   ]
  },
  {
   "cell_type": "code",
   "execution_count": 11,
   "id": "77037a1a",
   "metadata": {},
   "outputs": [
    {
     "data": {
      "text/plain": [
       "(4, 2)"
      ]
     },
     "execution_count": 11,
     "metadata": {},
     "output_type": "execute_result"
    }
   ],
   "source": [
    "# Aplicação do treinamento do perceptron simples para a função lógica AND\n",
    "\n",
    "# Dados de entrada e saída\n",
    "# x = entradas, y = saídas esperadas\n",
    "# A função AND retorna 1 somente quando ambas as entradas são 1, caso contrário retorna 0.\n",
    "# A tabela verdade da função AND é: \n",
    "x = np.array([[0, 0], \n",
    "              [0, 1], \n",
    "              [1, 0],\n",
    "              [1, 1]])\n",
    "\n",
    "d = np.array([0, \n",
    "              0,\n",
    "              0, \n",
    "              1])\n",
    "x.shape"
   ]
  },
  {
   "cell_type": "code",
   "execution_count": 4,
   "id": "c42e1ec8",
   "metadata": {},
   "outputs": [],
   "source": [
    "# Inicialização dos pesos e bias\n",
    "# Inicializando os pesos com valores aleatórios e o bias com zero\n",
    "np.random.seed(42)  # Para reprodutibilidade\n",
    "pesos = np.random.rand(2)  # Dois pesos para duas entradas\n",
    "bias = np.random.rand(1)[0]  # Um bias\n",
    "\n",
    "# Taxa de aprendizado\n",
    "taxa_aprendizado = 0.1\n",
    "\n",
    "# Número de épocas\n",
    "num_epocas = 10"
   ]
  },
  {
   "cell_type": "code",
   "execution_count": 16,
   "id": "234c6625",
   "metadata": {},
   "outputs": [
    {
     "data": {
      "text/plain": [
       "4"
      ]
     },
     "execution_count": 16,
     "metadata": {},
     "output_type": "execute_result"
    }
   ],
   "source": [
    "x.shape[0]"
   ]
  },
  {
   "cell_type": "code",
   "execution_count": 17,
   "id": "d4ac465f",
   "metadata": {},
   "outputs": [
    {
     "name": "stdout",
     "output_type": "stream",
     "text": [
      "0\n",
      "1\n",
      "2\n",
      "3\n"
     ]
    }
   ],
   "source": [
    "# inicialização dos pesos com valores aleatórios\n",
    "for a in range(x.shape[0]):\n",
    "    print(a)"
   ]
  },
  {
   "cell_type": "code",
   "execution_count": 31,
   "id": "1e260933",
   "metadata": {},
   "outputs": [],
   "source": [
    "# plotagem da reta\n",
    "def plot_reta(w1, w2, b):\n",
    "    x = np.linspace(-10, 10, 400)\n",
    "    y = - x * w1/w2 + b/w2\n",
    "    \n",
    "    plt.figure(figsize=(8, 5))\n",
    "    plt.plot(0, 0, 'ro')  \n",
    "    plt.plot(0, 1, 'ro')  \n",
    "    plt.plot(1, 0, 'ro')  \n",
    "    plt.plot(1, 1, 'bo')  \n",
    "    plt.plot(x, y, label=f'y = x({w1:.2f}/{w2:.2f}) + {b:.2f}/{w2:.2f}', color='blue')\n",
    "    plt.axhline(0, color='black', lw=0.5)\n",
    "    plt.axvline(0, color='black', lw=0.5)\n",
    "    plt.grid(True)\n",
    "    plt.ylim(-10, 10)\n",
    "    plt.xlim(-10, 10)\n",
    "    plt.title('Reta Interativa: y = a(w_1/w_2) + b/w_2')\n",
    "    plt.xlabel('x')\n",
    "    plt.ylabel('y')\n",
    "    plt.legend()\n",
    "    plt.show()"
   ]
  },
  {
   "cell_type": "code",
   "execution_count": 34,
   "id": "35b658c3",
   "metadata": {},
   "outputs": [
    {
     "name": "stdout",
     "output_type": "stream",
     "text": [
      "Época 1, Pesos: [0.77962421 0.63635273], Bias: -0.356774174368763\n",
      "Época 2, Pesos: [0.73070518 0.60205066], Bias: -0.40452504861483113\n",
      "Época 3, Pesos: [0.70898458 0.59492375], Bias: -0.4010267540521198\n",
      "Época 4, Pesos: [0.69429426 0.5920815 ], Bias: -0.39033219554516163\n",
      "Época 5, Pesos: [0.68272968 0.58976684], Bias: -0.37979348831420723\n",
      "Época 6, Pesos: [0.67326688 0.58745932], Bias: -0.3704839979425024\n",
      "Época 7, Pesos: [0.66544502 0.58515609], Bias: -0.36242348512513783\n",
      "Época 8, Pesos: [0.65895441 0.58291457], Bias: -0.35547286007118395\n",
      "Época 9, Pesos: [0.65355491 0.58078159], Bias: -0.34948504288477344\n",
      "Época 10, Pesos: [0.64905332 0.57878692], Bias: -0.3443283323715504\n"
     ]
    }
   ],
   "source": [
    "# Treinamento do perceptron\n",
    "\n",
    "# inicialização dos pesos com valores aleatórios\n",
    "w = np.random.rand(2)\n",
    "\n",
    "# Inicializar o bias\n",
    "bias = 0\n",
    "\n",
    "# Especificar a taxa de aprendizagem\n",
    "eta = 0.2\n",
    "\n",
    "# Iniciar o contador de épocas\n",
    "epoca = 0\n",
    "total_epocas = 10\n",
    "\n",
    "while epoca != total_epocas:\n",
    "    for i in range(x.shape[0]):\n",
    "        # y = funcao_degrau(\n",
    "        #     np.dot(x[i,:],w) + bias\n",
    "        # )\n",
    "        y = np.dot(x[i,:],w) + bias\n",
    "        if y != d[i]:\n",
    "            erro = d[i] - y\n",
    "            w += eta * erro * x[i,:]\n",
    "            bias += eta * erro\n",
    "    print(f'Época {epoca + 1}, Pesos: {w}, Bias: {bias}')\n",
    "\n",
    "    epoca += 1"
   ]
  },
  {
   "cell_type": "code",
   "execution_count": 38,
   "id": "5861306d",
   "metadata": {},
   "outputs": [
    {
     "data": {
      "text/plain": [
       "0.8835119098106532"
      ]
     },
     "execution_count": 38,
     "metadata": {},
     "output_type": "execute_result"
    }
   ],
   "source": [
    "np.dot(x[3,:], w) + bias"
   ]
  },
  {
   "cell_type": "code",
   "execution_count": 37,
   "id": "39e8f0bc",
   "metadata": {},
   "outputs": [
    {
     "data": {
      "text/plain": [
       "1"
      ]
     },
     "execution_count": 37,
     "metadata": {},
     "output_type": "execute_result"
    }
   ],
   "source": [
    "funcao_degrau(np.dot(x[3,:], w) + bias)"
   ]
  },
  {
   "cell_type": "markdown",
   "id": "2e0e9426",
   "metadata": {},
   "source": [
    "## Exercício 1\n",
    "### Atividade Prática – Rede Perceptron Simples 2 pts\n",
    "\n",
    "1. **Formem grupos de 4 pessoas**.  \n",
    "2. **Objetivo:** implementar uma **rede Perceptron simples** para realizar classificações.  \n",
    "3. **Instruções:**  \n",
    "   - Desenvolvam o código da rede Perceptron simples em linguagem de programação à escolha do grupo.  \n",
    "   - Realizem **7 treinamentos independentes**.  \n",
    "   - **Pesos iniciais e bias** devem ser **gerados de forma aleatória** para cada treinamento.  \n",
    "   - Ao final de cada treinamento, registrem:  \n",
    "     - **Pesos iniciais**  \n",
    "     - **Pesos finais**  \n",
    "     - **Bias final**  \n",
    "     - **Saída para as amostras de teste**  \n",
    "\n",
    "4. **Organizem os resultados** em uma **tabela** com as seguintes colunas:  \n",
    "\n",
    "| Treinamento | Pesos Iniciais | Pesos Finais | Bias Final | Saída das Amostras de Teste |\n",
    "|-------------|---------------|--------------|------------|-----------------------------|\n",
    "| | | | | | \n",
    "|-------------|---------------|--------------|------------|-----------------------------|\n",
    "\n",
    "5. **Entregáveis:**  \n",
    "   - Código-fonte utilizado.  \n",
    "   - Tabela preenchida com os resultados.  \n",
    "   - Breve comentário sobre a variação dos pesos e da saída final em cada execução.  \n"
   ]
  },
  {
   "cell_type": "code",
   "execution_count": 3,
   "id": "4621b1d7",
   "metadata": {},
   "outputs": [
    {
     "name": "stdout",
     "output_type": "stream",
     "text": [
      "/Users/fernandes/Documents/Estudo/UNAMA/Disciplinas/2025.2/REDES NEURAIS/GitHub/Notebook\n"
     ]
    }
   ],
   "source": [
    "!pwd"
   ]
  },
  {
   "cell_type": "code",
   "execution_count": 6,
   "id": "4ceb2aa2",
   "metadata": {},
   "outputs": [],
   "source": [
    "import pandas as pd\n",
    "# data = pd.read_excel()"
   ]
  },
  {
   "cell_type": "code",
   "execution_count": null,
   "id": "337135a1",
   "metadata": {},
   "outputs": [],
   "source": []
  },
  {
   "cell_type": "markdown",
   "id": "eb0e2574",
   "metadata": {},
   "source": [
    "## Exercício 2\n",
    "Implemente as funções de ativação apresentadas abaixo segundo as equções mostradas. Utilize somente a biblioteca _numpy_ quando necessário."
   ]
  },
  {
   "cell_type": "markdown",
   "id": "1a2d9870",
   "metadata": {},
   "source": [
    "Função Degrau bipolar:\n",
    "$$\n",
    "f(v) =\n",
    "\\begin{cases}\n",
    "1, & \\text{se } v > 0 \\\\\n",
    "\\text{saída anterior,} & \\text{se } v = 0 \\\\\n",
    "-1, & \\text{se } v < 0\n",
    "\\end{cases}\n",
    "$$"
   ]
  },
  {
   "cell_type": "code",
   "execution_count": null,
   "id": "30fb9656",
   "metadata": {},
   "outputs": [],
   "source": [
    "def funcaco_degrau_bipolar(v):\n",
    "    pass"
   ]
  },
  {
   "cell_type": "markdown",
   "id": "f99ff4b2",
   "metadata": {},
   "source": [
    "Função Rampa Simétrica\n",
    "$$\n",
    "f(v) =\n",
    "\\begin{cases}\n",
    "1, & \\text{se } v > 1 \\\\\n",
    "x & \\text{se } -1 < v < 1 \\\\\n",
    "-1, & \\text{se } v < -1\n",
    "\\end{cases}\n",
    "$$"
   ]
  },
  {
   "cell_type": "code",
   "execution_count": 3,
   "id": "bd912b31",
   "metadata": {},
   "outputs": [],
   "source": [
    "def funcao_rampa_simetrica(v):\n",
    "    pass"
   ]
  },
  {
   "cell_type": "markdown",
   "id": "566fc859",
   "metadata": {},
   "source": [
    "Função Logística\n",
    "$$\n",
    "f(v) = \\frac{1}{1+e^{-\\beta v}}\n",
    "$$\n",
    "onde $\\beta$ é uma constante real associada ao nível de inclinação da função logística frente ao seu ponto de inflexão. "
   ]
  },
  {
   "cell_type": "code",
   "execution_count": 4,
   "id": "b45a9da4",
   "metadata": {},
   "outputs": [],
   "source": [
    "def funcao_logistica(v):\n",
    "    pass"
   ]
  },
  {
   "cell_type": "markdown",
   "id": "dcaf823a",
   "metadata": {},
   "source": [
    "Função Hiperbólica\n",
    "$$\n",
    "f(v) = \\frac{1-e^{-\\beta v}}{1+e^{-\\beta v}}\n",
    "$$\n",
    "onde $\\beta$ está também associado ao nível de inclinação da função tangente hiperbólica em relação ao seu ponto de inflexão. "
   ]
  },
  {
   "cell_type": "code",
   "execution_count": 5,
   "id": "55f56116",
   "metadata": {},
   "outputs": [],
   "source": [
    "def funcao_hiperbolica(v):\n",
    "    pass"
   ]
  },
  {
   "cell_type": "markdown",
   "id": "53323a1d",
   "metadata": {},
   "source": [
    "Função Gaussiana\n",
    "$$\n",
    "f(v) = e^{-\\frac{(v-c)^2}{2\\sigma^2}}\n",
    "$$\n",
    "onde $c$ é um parâmetro que define o centro da função gaussiana e $\\sigma$ denota o desvio padrão associado à mesma, isto é, o quão espalhada (dispersada) está a curva em relação ao seu centro. (Silva et al, 2016)"
   ]
  },
  {
   "cell_type": "code",
   "execution_count": 6,
   "id": "f717802f",
   "metadata": {},
   "outputs": [],
   "source": [
    "def funcao_gaussiana(v):\n",
    "    pass"
   ]
  },
  {
   "cell_type": "markdown",
   "id": "3ed6e843",
   "metadata": {},
   "source": [
    "Função Linear\n",
    "$$ \n",
    "f(v) = v\n",
    "$$"
   ]
  },
  {
   "cell_type": "code",
   "execution_count": 7,
   "id": "54520e6d",
   "metadata": {},
   "outputs": [],
   "source": [
    "def funcao_linear(v):\n",
    "    pass"
   ]
  },
  {
   "cell_type": "markdown",
   "id": "c41f2a91",
   "metadata": {},
   "source": [
    "## Bilbiografia\n",
    "\n",
    "SILVA, Ivan Nunes da; SPATTI, Danilo Hernane; FLAUZINO, Rogério Andrade. Redes neurais artificiais para engenharia e ciências aplicadas. São Paulo: Artliber Editora, 2016."
   ]
  },
  {
   "cell_type": "markdown",
   "id": "12732fa0",
   "metadata": {},
   "source": []
  }
 ],
 "metadata": {
  "kernelspec": {
   "display_name": "base",
   "language": "python",
   "name": "python3"
  },
  "language_info": {
   "codemirror_mode": {
    "name": "ipython",
    "version": 3
   },
   "file_extension": ".py",
   "mimetype": "text/x-python",
   "name": "python",
   "nbconvert_exporter": "python",
   "pygments_lexer": "ipython3",
   "version": "3.11.3"
  }
 },
 "nbformat": 4,
 "nbformat_minor": 5
}
