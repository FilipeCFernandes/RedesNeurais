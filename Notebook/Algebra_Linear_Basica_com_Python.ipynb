{
 "cells": [
  {
   "cell_type": "markdown",
   "id": "a3e499c7",
   "metadata": {},
   "source": [
    "# Álgebra Linear Básica com Python\n",
    "Este notebook apresenta os conceitos fundamentais de Álgebra Linear aplicados ao contexto computacional com Python e NumPy.\n",
    "É voltado para estudantes que estão iniciando seus estudos em redes neurais e machine learning."
   ]
  },
  {
   "cell_type": "code",
   "execution_count": null,
   "id": "490656f5",
   "metadata": {},
   "outputs": [],
   "source": [
    "import numpy as np\n"
   ]
  },
  {
   "cell_type": "markdown",
   "id": "b6a30be7",
   "metadata": {},
   "source": [
    "## Vetores\n",
    "Vetores são estruturas que armazenam valores em uma dimensão."
   ]
  },
  {
   "cell_type": "code",
   "execution_count": null,
   "id": "ed76baf2",
   "metadata": {},
   "outputs": [],
   "source": [
    "v1 = np.array([1, 2, 3])\n",
    "v2 = np.array([4, 5, 6])\n",
    "print('v1:', v1)\n",
    "print('v2:', v2)"
   ]
  },
  {
   "cell_type": "markdown",
   "id": "5f47704a",
   "metadata": {},
   "source": [
    "### Soma de vetores"
   ]
  },
  {
   "cell_type": "code",
   "execution_count": null,
   "id": "5f23f9fc",
   "metadata": {},
   "outputs": [],
   "source": [
    "v_soma = v1 + v2\n",
    "print('v1 + v2 =', v_soma)"
   ]
  },
  {
   "cell_type": "markdown",
   "id": "a2767de7",
   "metadata": {},
   "source": [
    "### Produto escalar (dot product)"
   ]
  },
  {
   "cell_type": "code",
   "execution_count": null,
   "id": "b772a4fc",
   "metadata": {},
   "outputs": [],
   "source": [
    "produto = np.dot(v1, v2)\n",
    "print('Produto escalar de v1 e v2 =', produto)"
   ]
  },
  {
   "cell_type": "markdown",
   "id": "25491e6a",
   "metadata": {},
   "source": [
    "## Matrizes\n",
    "Matrizes são coleções de vetores organizados em duas dimensões."
   ]
  },
  {
   "cell_type": "code",
   "execution_count": null,
   "id": "b5f61a22",
   "metadata": {},
   "outputs": [],
   "source": [
    "A = np.array([[1, 2], [3, 4]])\n",
    "B = np.array([[5, 6], [7, 8]])\n",
    "print('Matriz A:\\n', A)\n",
    "print('Matriz B:\\n', B)"
   ]
  },
  {
   "cell_type": "markdown",
   "id": "31694fc0",
   "metadata": {},
   "source": [
    "### Multiplicação de matrizes"
   ]
  },
  {
   "cell_type": "code",
   "execution_count": null,
   "id": "89932f81",
   "metadata": {},
   "outputs": [],
   "source": [
    "produto_matriz = np.dot(A, B)\n",
    "print('A * B =\\n', produto_matriz)"
   ]
  },
  {
   "cell_type": "markdown",
   "id": "8d2e317a",
   "metadata": {},
   "source": [
    "## Transformações Lineares\n",
    "A multiplicação de uma matriz por um vetor é uma transformação linear."
   ]
  },
  {
   "cell_type": "code",
   "execution_count": null,
   "id": "c540526f",
   "metadata": {},
   "outputs": [],
   "source": [
    "x = np.array([1, 2])\n",
    "T = np.array([[2, 0], [0, 3]])\n",
    "y = np.dot(T, x)\n",
    "print('Transformação linear T*x =', y)"
   ]
  },
  {
   "cell_type": "markdown",
   "id": "5b8f064e",
   "metadata": {},
   "source": [
    "## Norma de vetores\n",
    "A norma mede o comprimento ou magnitude de um vetor."
   ]
  },
  {
   "cell_type": "code",
   "execution_count": null,
   "id": "938b2b17",
   "metadata": {},
   "outputs": [],
   "source": [
    "norma_v1 = np.linalg.norm(v1)\n",
    "print('Norma de v1 =', norma_v1)"
   ]
  }
 ],
 "metadata": {},
 "nbformat": 4,
 "nbformat_minor": 5
}
